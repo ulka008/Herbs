{
  "nbformat": 4,
  "nbformat_minor": 0,
  "metadata": {
    "colab": {
      "name": "herbs_project.ipynb",
      "provenance": [],
      "collapsed_sections": []
    },
    "kernelspec": {
      "name": "python3",
      "display_name": "Python 3"
    },
    "language_info": {
      "name": "python"
    }
  },
  "cells": [
    {
      "cell_type": "code",
      "metadata": {
        "colab": {
          "base_uri": "https://localhost:8080/"
        },
        "id": "N_jxuZEoJtXU",
        "outputId": "602e6653-56be-49b4-9e27-d4ad5ae1a737"
      },
      "source": [
        "# Mounting Google Drive locally\n",
        "from google.colab import drive\n",
        "drive.mount('/content/drive')"
      ],
      "execution_count": 9,
      "outputs": [
        {
          "output_type": "stream",
          "name": "stdout",
          "text": [
            "Drive already mounted at /content/drive; to attempt to forcibly remount, call drive.mount(\"/content/drive\", force_remount=True).\n"
          ]
        }
      ]
    },
    {
      "cell_type": "code",
      "metadata": {
        "colab": {
          "base_uri": "https://localhost:8080/"
        },
        "id": "GshkJlerS6rc",
        "outputId": "3634ba4f-b787-45f0-ec54-27e21d2f8fe3"
      },
      "source": [
        "# weather details of any city\n",
        "# using openweathermap api\n",
        "\n",
        "# Python program to find current\n",
        "\n",
        "import requests, json\n",
        "\n",
        "# Enter your API key here\n",
        "api_key = \"accf52e661c71d7c2953f13a894f2fc1\"\n",
        "\n",
        "base_url = \"http://api.openweathermap.org/data/2.5/weather?\"\n",
        "city_name = input(\"Enter city name : \")\n",
        "\n",
        "complete_url = base_url + \"appid=\" + api_key + \"&q=\" + city_name +\"&units=imperial\"\n",
        "\n",
        "response = requests.get(complete_url)\n",
        "x = response.json()\n",
        "if x[\"cod\"] != \"404\":\n",
        "\n",
        "\ty = x[\"main\"]\n",
        "\tcurrent_temperature = y[\"temp\"]\n",
        "\tcurrent_pressure = y[\"pressure\"]\n",
        "\tcurrent_humidity = y[\"humidity\"]\n",
        "\tz = x[\"weather\"]\n",
        "\n",
        "\t\n",
        "\tweather_description = z[0][\"description\"]\n",
        "\n",
        "\t# print following values\n",
        "\tprint(\" Temperature (in degrees Fahrenheit unit) = \" +\n",
        "\t\t\t\t\tstr(current_temperature) +\n",
        "\t\t\"\\n atmospheric pressure (in hPa unit) = \" +\n",
        "\t\t\t\t\tstr(current_pressure) +\n",
        "\t\t\"\\n humidity (in percentage) = \" +\n",
        "\t\t\t\t\tstr(current_humidity) +\n",
        "\t\t\"\\n description = \" +\n",
        "\t\t\t\t\tstr(weather_description))\n",
        "else:\n",
        "    print(\" City Not Found \")"
      ],
      "execution_count": 10,
      "outputs": [
        {
          "output_type": "stream",
          "name": "stdout",
          "text": [
            "Enter city name : Louisville\n",
            " Temperature (in degrees Fahrenheit unit) = 65.61\n",
            " atmospheric pressure (in hPa unit) = 1016\n",
            " humidity (in percentage) = 70\n",
            " description = overcast clouds\n"
          ]
        }
      ]
    },
    {
      "cell_type": "code",
      "metadata": {
        "colab": {
          "base_uri": "https://localhost:8080/"
        },
        "id": "CbJgeT7GlRZx",
        "outputId": "98a68a97-faed-4391-9238-f7c7792dc949"
      },
      "source": [
        "from datetime import date\n",
        "f_date = date(2021, 11, 19)\n",
        "l_date = date(2022, 4, 1)\n",
        "delta = l_date - f_date\n",
        "print(delta.days)"
      ],
      "execution_count": 11,
      "outputs": [
        {
          "output_type": "stream",
          "name": "stdout",
          "text": [
            "133\n"
          ]
        }
      ]
    },
    {
      "cell_type": "code",
      "metadata": {
        "id": "XyG8eqCocYG8",
        "colab": {
          "base_uri": "https://localhost:8080/"
        },
        "outputId": "2cce826f-9dea-486b-fa66-b0d7a76c07d2"
      },
      "source": [
        "# After executing the cell above, Drive\n",
        "# files will be present in \"/content/drive/My Drive\".\n",
        "!ls \"/content/drive/My Drive/Plants_python\"\n"
      ],
      "execution_count": 12,
      "outputs": [
        {
          "output_type": "stream",
          "name": "stdout",
          "text": [
            " archive.zip\t\t       herbs_list.gsheet   Maturity.gsheet\n",
            "'Copy of plants_data.gsheet'  'Maturity -.csv'\n"
          ]
        }
      ]
    },
    {
      "cell_type": "code",
      "metadata": {
        "colab": {
          "base_uri": "https://localhost:8080/"
        },
        "id": "6COADZnAL7PU",
        "outputId": "0373d2d1-ed60-41a9-c369-6a3a76597a28"
      },
      "source": [
        "\n",
        "#from io import BytesIO\n",
        "#import pandas as pd\n",
        "#import requests\n",
        "#r = requests.get('https://colab.research.google.com/drive/16hKfEpLjZ3w5eXgEUzOM8qtucFronpPY?authuser=1#scrollTo=6COADZnAL7PU&line=9&uniqifier=1&output=csv')\n",
        "#data = r.content\n",
        "#df = pd.read_csv(BytesIO(data), index_col=0,)\n",
        "#df.head()\n",
        "##parse_dates=['Quradate']\n",
        "##https://colab.research.google.com/drive/16hKfEpLjZ3w5eXgEUzOM8qtucFronpPY?authuser=1#scrollTo=6COADZnAL7PU&line=9&uniqifier=1 - CSV File\n",
        "##/content/drive/MyDrive/Plants_python/Maturity.gsheet\n",
        "\n",
        "\n",
        "\n",
        "import pandas as pd\n",
        "##!pip install pandas\n",
        "\n",
        "\n",
        "df = pd.read_csv(\"/content/drive/MyDrive/Plants_python/Harvest.csv\")\n",
        "print (df)\n",
        "\n",
        "\n",
        "x = list(df['Name: '])\n",
        "y = list(df['Days to Maturity'])"
      ],
      "execution_count": 14,
      "outputs": [
        {
          "output_type": "stream",
          "name": "stdout",
          "text": [
            "     Name:   Days to Maturity\n",
            "0     Basil                70\n",
            "1    Chives                80\n",
            "2  Cilantro                75\n",
            "3      Dill                60\n",
            "4      Mint                20\n",
            "5   Oregano                85\n",
            "6   Parsley                80\n",
            "7  Rosemary                85\n",
            "8      Sage                70\n",
            "9     Thyme                80\n"
          ]
        }
      ]
    },
    {
      "cell_type": "code",
      "metadata": {
        "colab": {
          "base_uri": "https://localhost:8080/",
          "height": 340
        },
        "id": "t1MbYpkPbYLF",
        "outputId": "71c8c608-86a1-49bb-afe7-68817c2d37f2"
      },
      "source": [
        "import matplotlib.pyplot as plt\n",
        "\n",
        "#import pandas as pd\n",
        "##import xlsxwriter\n",
        "##workbook =  \"/content/Maturity.xlsx\"\n",
        "\n",
        "\n",
        "New_Colors = ['orange','purple','green','yellow','brown']\n",
        "plt.bar(df['Name: '], df['Days to Maturity'], color=New_Colors)\n",
        "plt.title('Time to Maturity', fontsize=14)\n",
        "plt.xlabel('Name: ', fontsize=14)\n",
        "plt.xticks(rotation='vertical')\n",
        "plt.ylabel('Days to Maturity', fontsize=14)\n",
        "plt.grid(True)\n",
        "plt.show()"
      ],
      "execution_count": 15,
      "outputs": [
        {
          "output_type": "display_data",
          "data": {
            "image/png": "[encoded data removed]",
            "text/plain": [
              "<Figure size 432x288 with 1 Axes>"
            ]
          },
          "metadata": {
            "needs_background": "light"
          }
        }
      ]
    }
  ]
}